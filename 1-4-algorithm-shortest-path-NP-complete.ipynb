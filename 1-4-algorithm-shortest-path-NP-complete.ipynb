{
 "cells": [
  {
   "cell_type": "markdown",
   "metadata": {},
   "source": [
    "# Shortest Path revisited and NP complete problems"
   ]
  },
  {
   "cell_type": "markdown",
   "metadata": {},
   "source": [
    "## Single source shortest path\n",
    "\n",
    "- directed graph $G = (V, E)$\n",
    "- for every destonation $v$ and source $s$ in $V$, compute the length of the shortest s-v path\n",
    "\n",
    "Dijkstra\n",
    "- $O(mlogn)$ with heaps\n",
    "- $m$ = number of edges\n",
    "- $n$ = number of nodes\n",
    "- edges must have positive cost\n",
    "\n",
    "Bellman-Ford\n",
    "- either compute the length of the shortest s-v path or a negative cycle\n",
    "- for every $v$ in $V$ and $i = 1 \\dots n$, let $P$ = shortest s-v path with at most $i$ edges\n",
    "- case 1: if $P$ has $\\le (i-1)$ edges, it is a shortest s-v path with $\\le (i-1)$ edges\n",
    "- case 2: if $P$ has $i$ edges with the last hop $(w,v)$m then $P^{'}$ is a shortest s-v path with $\\le (i-1)$ edges\n",
    "\n",
    "Recurrence\n",
    "- let $L_{i,v}$ = minimum length of a s-v path with $\\le i$ edges (with cycles allowed)\n",
    "- for every $v$ in $V$, $i = 1 \\dots n$\n",
    "\n",
    "$L_{i,v} = min\\left[L_{i-1,v}, min\\left[L_{i-1,v},c_{wv}\\right]\\right]$\n",
    "\n",
    "- If no negative cycles\n",
    "    - shortest path do not have cycles\n",
    "    - have $\\le (n-1)$ edges\n",
    "    - compute $L_{i,v}$ for all $i = 1 \\dots n-1$ and all $v$ in $V$\n",
    "    \n",
    "Pseudo code\n",
    "- let $A$ = 2-D array (index $i$ and $v$)\n",
    "- base case: $A[0,s] = 0$ and $A[0,v] = +\\infty$ for all $v != s$\n",
    "- for i = 1 to n-1\n",
    "    - for each $v$ in $V$\n",
    "        - $A[i,v] = min\\left[A_{i-1,v}, min\\left[A_{i-1,v},c_{wv}\\right]\\right]$\n",
    "- if G has no negative cycle, then answer is $A[n-1,v]$\n",
    "\n",
    "Stopping early\n",
    "- suppose for some $j < n-1$, $A[j,v] = A[j-1,v]$ for all vertices $v$\n",
    "- for all $v$, all future $A[i,v]'s will be the same$\n",
    "- can safely halt\n",
    "\n"
   ]
  },
  {
   "cell_type": "code",
   "execution_count": null,
   "metadata": {},
   "outputs": [],
   "source": []
  }
 ],
 "metadata": {
  "kernelspec": {
   "display_name": "Python 3",
   "language": "python",
   "name": "python3"
  },
  "language_info": {
   "codemirror_mode": {
    "name": "ipython",
    "version": 3
   },
   "file_extension": ".py",
   "mimetype": "text/x-python",
   "name": "python",
   "nbconvert_exporter": "python",
   "pygments_lexer": "ipython3",
   "version": "3.7.4"
  }
 },
 "nbformat": 4,
 "nbformat_minor": 2
}
