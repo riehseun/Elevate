{
 "cells": [
  {
   "cell_type": "markdown",
   "metadata": {},
   "source": [
    "# How to debug code\n",
    "\n",
    "- corner cases: n=1 or maximum possible number\n",
    "- think what the answer should be with pen and paper\n",
    "- to measure CPU time since the start of the program, use \"time.clock()\"\n",
    "- measure time for small, medium, and large tests\n",
    "\n",
    "## Fabonacci numbers\n",
    "\n",
    "- $F_{n} = 0$ if $n=0$\n",
    "- $F_{n} = 1$ if $n=1$\n",
    "- $F_{n} = F_{n-1} + F_{n-2}$ if $n>0$\n",
    "\n",
    "### Naive algorithm\n",
    "\n",
    "```\n",
    "FibRecurse(n)\n",
    "    if n <= 1\n",
    "        return 1\n",
    "    else\n",
    "        FibRecurse(n-1) + FibRecurse(n-2)\n",
    "```\n",
    "\n",
    "### Efficient algorithm\n",
    "\n",
    "```\n",
    "FibList(n)\n",
    "    create an array F[0...n]\n",
    "    F[0] = 1\n",
    "    F[1] = 1\n",
    "    for i from 2 to n\n",
    "        F[i] = F[i-1] + F[i-2]\n",
    "    return F[n]\n",
    "```\n",
    "\n",
    "## Greatest common divisors\n",
    "\n",
    "- for integers $a,b$, find the largest integer $d$ that divides both $a,b$\n",
    "\n",
    "### Naive algorithm\n",
    "\n",
    "```\n",
    "gcd(a,b)\n",
    "    best = 0\n",
    "    for d from 1 to a+b\n",
    "        if d % a == 0 and d % b ==0\n",
    "            best = d\n",
    "    return best\n",
    "```\n",
    "\n",
    "### Efficient algorithm\n",
    "\n",
    "- lemma: let $a^{'}$ be the remainder when $a$ is divided by $b$, then gcd$(a,b)$ = gcd$(a^{'},b)$ = gcd$(b, a^{'})$\n",
    "\n",
    "```\n",
    "EuclidGCD(a,b)\n",
    "    if b == 0\n",
    "        return a\n",
    "    a' = the remainder when a is divided by b\n",
    "    return EuclidGCD(b,a')\n",
    "```"
   ]
  },
  {
   "cell_type": "code",
   "execution_count": null,
   "metadata": {},
   "outputs": [],
   "source": []
  }
 ],
 "metadata": {
  "kernelspec": {
   "display_name": "Python 3",
   "language": "python",
   "name": "python3"
  },
  "language_info": {
   "codemirror_mode": {
    "name": "ipython",
    "version": 3
   },
   "file_extension": ".py",
   "mimetype": "text/x-python",
   "name": "python",
   "nbconvert_exporter": "python",
   "pygments_lexer": "ipython3",
   "version": "3.7.4"
  }
 },
 "nbformat": 4,
 "nbformat_minor": 2
}
