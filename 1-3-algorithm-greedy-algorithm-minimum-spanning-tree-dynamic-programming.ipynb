{
 "cells": [
  {
   "cell_type": "markdown",
   "metadata": {},
   "source": [
    "# Greedy Algorithm, Minimum Spanning Tree, Dynamic Programming"
   ]
  },
  {
   "cell_type": "markdown",
   "metadata": {},
   "source": [
    "## Greedy algorithm\n",
    "\n",
    "- Example: Dijkstra's shortest path algorithm\n",
    "- easy to propose\n",
    "- easy runtime analysis\n",
    "- hard to eatablish correctness\n",
    "- most greedy algorithms are not correct"
   ]
  },
  {
   "cell_type": "code",
   "execution_count": null,
   "metadata": {},
   "outputs": [],
   "source": [
    "def open_file(file_path):\n",
    "    \"\"\"\n",
    "    Read-in a file containing rows with weight and length, and compute difference and ratio\n",
    "    \n",
    "    Args:\n",
    "    file_path -- location of file to read\n",
    "    \n",
    "    Returns:\n",
    "    data_array -- an array of tuples \n",
    "    \"\"\"\n",
    "    \n",
    "    data_array = []\n",
    "    running_sum = 0\n",
    "    \n",
    "    with open(file_path, 'r') as line:\n",
    "        array_of_array = line.read().split(\"\\n\")\n",
    "        del array_of_array[0] # delete first element, which is just the length of data\n",
    "        for array in array_of_array:\n",
    "            subarray = array.split(\" \")\n",
    "            weight = int(subarray[0])\n",
    "            length = int(subarray[1])\n",
    "            difference = weight - length\n",
    "            ratio = weight / length\n",
    "            data_array.append((weight, length, difference, ratio))\n",
    "    return data_array\n",
    "\n",
    "\n",
    "array = open_file(\"data/job.txt\")\n",
    "# array = open_file(\"data/job-test1.txt\")\n",
    "\n",
    "sorted_array = sorted(array, key=lambda x: (x[2], x[0]), reverse = True) # sort by fourth element, them by first\n",
    "# print(sorted_array) \n",
    "completion_time = 0\n",
    "running_sum = 0\n",
    "for item in sorted_array:\n",
    "    running_sum += item[1]\n",
    "    completion_time += item[0] * running_sum\n",
    "print(completion_time)\n",
    "# 1175612\n",
    "\n",
    "sorted_array = sorted(array, key=lambda x: (x[3], x[0]), reverse = True) # sort by fifth element, then by first\n",
    "completion_time = 0\n",
    "running_sum = 0\n",
    "for item in sorted_array:\n",
    "    running_sum += item[1]\n",
    "    completion_time += item[0] * running_sum\n",
    "print(completion_time)\n",
    "# 1142691"
   ]
  },
  {
   "cell_type": "markdown",
   "metadata": {},
   "source": [
    "## Minimum spanning tree\n",
    "\n"
   ]
  }
 ],
 "metadata": {
  "kernelspec": {
   "display_name": "Python 3",
   "language": "python",
   "name": "python3"
  },
  "language_info": {
   "codemirror_mode": {
    "name": "ipython",
    "version": 3
   },
   "file_extension": ".py",
   "mimetype": "text/x-python",
   "name": "python",
   "nbconvert_exporter": "python",
   "pygments_lexer": "ipython3",
   "version": "3.7.4"
  }
 },
 "nbformat": 4,
 "nbformat_minor": 2
}
